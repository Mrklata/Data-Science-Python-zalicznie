{
 "cells": [
  {
   "cell_type": "code",
   "execution_count": 4,
   "metadata": {},
   "outputs": [],
   "source": [
    "import numpy as np"
   ]
  },
  {
   "cell_type": "code",
   "execution_count": 2,
   "metadata": {},
   "outputs": [],
   "source": [
    "class Vector2D():\n",
    "\n",
    "    def __init__(self, x1, y1, x2, y2):\n",
    "        self.x1 = x1\n",
    "        self.y1 = y1\n",
    "        self.v1 = np.linespace(x1, y1) \n",
    "        self.x2 = x2\n",
    "        self.y2 = y2\n",
    "        self.v2 = np.linespace(x2, y2)\n",
    "        \n",
    "    def suma(self):\n",
    "        v1sumv2 = np.linespace(x1 + x2, y1 + y2)\n",
    "        return v1sumv2\n",
    "    \n",
    "    def roznica(self):\n",
    "        wybor_roznica = input('v1 for v1 - v2, else v2')\n",
    "        if wybor_roznica == 'v1':\n",
    "            v1roznv2 = np.linespace(x1 - x2, y1 - y2)\n",
    "            return v1roznv2\n",
    "        elif wybor_roznica == 'v2':\n",
    "            v2roznv1 = np.linespace(x2 - x1, y2 - y1)\n",
    "            return v2roznv1\n",
    "        else:\n",
    "            print('wrong choice')\n",
    "            roznica()\n",
    "    \n",
    "    def il_liczba(self):\n",
    "        wybor_il_l = input('select vector v1 or v2')\n",
    "        num = int(input('select number to multiply by'))\n",
    "        if wybor_il_l == 'v1':\n",
    "            return np.linespace(x1 * num, y1 * num)\n",
    "\n",
    "        elif wybor_il_l == 'v2':\n",
    "            return np.linespace(x2 * num, y2 * num)\n",
    "    \n",
    "    def mnozenie_wek(self):\n",
    "        return self.v1 * self.v2\n",
    "    \n",
    "    def mozenie_scal(self):\n",
    "        result = np.dot(self.v1, self.v2)\n",
    "        return result\n",
    "    \n",
    "    def mnozenie(self):\n",
    "        x = int(input('Input 3rd vector x'))\n",
    "        y = int(input('Input 3rd vector y'))\n",
    "        a = np.array([self.x1, self.y1], [self.x2, self.y2], [x, y])\n",
    "        result = np.linalg.det(a)"
   ]
  },
  {
   "cell_type": "code",
   "execution_count": null,
   "metadata": {},
   "outputs": [],
   "source": []
  }
 ],
 "metadata": {
  "kernelspec": {
   "display_name": "Python 3",
   "language": "python",
   "name": "python3"
  },
  "language_info": {
   "codemirror_mode": {
    "name": "ipython",
    "version": 3
   },
   "file_extension": ".py",
   "mimetype": "text/x-python",
   "name": "python",
   "nbconvert_exporter": "python",
   "pygments_lexer": "ipython3",
   "version": "3.6.9"
  }
 },
 "nbformat": 4,
 "nbformat_minor": 4
}
