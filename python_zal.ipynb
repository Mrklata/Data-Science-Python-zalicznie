{
 "cells": [
  {
   "cell_type": "code",
   "execution_count": 70,
   "metadata": {},
   "outputs": [],
   "source": [
    "from fractions import Fraction\n",
    "from math import factorial as fc\n",
    "from statistics import stdev\n",
    "from scipy.stats import moment"
   ]
  },
  {
   "cell_type": "code",
   "execution_count": 6,
   "metadata": {},
   "outputs": [
    {
     "data": {
      "text/plain": [
       "'number is negative'"
      ]
     },
     "execution_count": 6,
     "metadata": {},
     "output_type": "execute_result"
    }
   ],
   "source": [
    "# z5\n",
    "def check(num):\n",
    "    if num >= 0:\n",
    "        return \"number is positive\"\n",
    "    else:\n",
    "        return \"number is negative\"\n",
    "    \n",
    "\n",
    "check(-542.54)"
   ]
  },
  {
   "cell_type": "code",
   "execution_count": 18,
   "metadata": {},
   "outputs": [
    {
     "data": {
      "text/plain": [
       "Fraction(5, 6)"
      ]
     },
     "execution_count": 18,
     "metadata": {},
     "output_type": "execute_result"
    }
   ],
   "source": [
    "# z6\n",
    "def adding_fractions(num_1, den_1, num_2, den_2):\n",
    "    return Fraction(num_1, den_1) + Fraction(num_2, den_2)\n",
    "\n",
    "\n",
    "adding_fractions(1, 2, 1, 3)"
   ]
  },
  {
   "cell_type": "code",
   "execution_count": 20,
   "metadata": {},
   "outputs": [
    {
     "name": "stdout",
     "output_type": "stream",
     "text": [
      "h\n",
      "t\n",
      "a\n",
      "m\n",
      " \n",
      "e\n",
      "v\n",
      "o\n",
      "l\n",
      " \n",
      "I\n"
     ]
    }
   ],
   "source": [
    "# z7\n",
    "def sentance(text):\n",
    "    text = text[::-1]\n",
    "    for i in text:\n",
    "        print(i)\n",
    "\n",
    "        \n",
    "sentance(\"I love math\")"
   ]
  },
  {
   "cell_type": "code",
   "execution_count": 25,
   "metadata": {},
   "outputs": [
    {
     "name": "stdout",
     "output_type": "stream",
     "text": [
      "Percentage value = 72.5\n"
     ]
    },
    {
     "data": {
      "text/plain": [
       "'db'"
      ]
     },
     "execution_count": 25,
     "metadata": {},
     "output_type": "execute_result"
    }
   ],
   "source": [
    "# z8\n",
    "def percentage(score):\n",
    "    full = 40\n",
    "    return (score/full) * 100\n",
    "\n",
    "\n",
    "def check_score(score):\n",
    "    value = percentage(score)\n",
    "    print(f\"Percentage value = {value}\")\n",
    "    if value <= 39:\n",
    "        answer = \"ndst\"\n",
    "    elif value <= 49:\n",
    "        answer = \"dop\"\n",
    "    elif value <= 69:\n",
    "        answer = \"dst\"\n",
    "    elif value <= 84:\n",
    "        answer = \"db\"\n",
    "    elif value <= 99:\n",
    "        answer = \"bdb\"\n",
    "    else:\n",
    "        answer = \"cel\"\n",
    "    return answer\n",
    "\n",
    "\n",
    "check_score(29)"
   ]
  },
  {
   "cell_type": "code",
   "execution_count": 54,
   "metadata": {},
   "outputs": [
    {
     "data": {
      "text/plain": [
       "13"
      ]
     },
     "execution_count": 54,
     "metadata": {},
     "output_type": "execute_result"
    }
   ],
   "source": [
    "# z12 iteracyjnie\n",
    "def fib(n):\n",
    "    a = 0\n",
    "    b = 1\n",
    "    if n < 0:\n",
    "        return \"n must be greater than 0\"\n",
    "    elif n == 0:\n",
    "        return a\n",
    "    elif n == 1:\n",
    "        return b\n",
    "    else:\n",
    "        for i in range(n - 2):\n",
    "            c = a + b\n",
    "            a = b\n",
    "            b = c\n",
    "        return c\n",
    "    \n",
    "fib(8)"
   ]
  },
  {
   "cell_type": "code",
   "execution_count": 60,
   "metadata": {},
   "outputs": [
    {
     "data": {
      "text/plain": [
       "21"
      ]
     },
     "execution_count": 60,
     "metadata": {},
     "output_type": "execute_result"
    }
   ],
   "source": [
    "# z12 rekurencyjnie\n",
    "def fibonacci(n): \n",
    "    if n < 0: \n",
    "        return \"n must be greater than 0\" \n",
    "    elif n == 1: \n",
    "        return 0\n",
    "    elif n == 2: \n",
    "        return 1\n",
    "    else: \n",
    "        return fibonacci(n-1) + fibonacci(n-2) \n",
    "  \n",
    "\n",
    "  \n",
    "fibonacci(9)"
   ]
  },
  {
   "cell_type": "code",
   "execution_count": 61,
   "metadata": {},
   "outputs": [
    {
     "name": "stdout",
     "output_type": "stream",
     "text": [
      "[1, 5, 10, 10, 5, 1]\n"
     ]
    }
   ],
   "source": [
    "# z14\n",
    "def triangle(n):\n",
    "    a = []\n",
    "    for x in range(1, n+2):\n",
    "        a.append(int((fc(n)) / (fc(n-(x-1)) * fc(x - 1))))\n",
    "    return a\n",
    "\n",
    "\n",
    "print(triangle(5))"
   ]
  },
  {
   "cell_type": "code",
   "execution_count": 62,
   "metadata": {},
   "outputs": [],
   "source": [
    "# z16"
   ]
  },
  {
   "cell_type": "code",
   "execution_count": 68,
   "metadata": {},
   "outputs": [
    {
     "data": {
      "text/plain": [
       "2.113456883875325"
      ]
     },
     "execution_count": 68,
     "metadata": {},
     "output_type": "execute_result"
    }
   ],
   "source": [
    "# z24\n",
    "def deviation_count(a):\n",
    "    return stdev(a)\n",
    "\n",
    "\n",
    "deviation_count([1.23, 2.43, 5.34])"
   ]
  },
  {
   "cell_type": "code",
   "execution_count": 86,
   "metadata": {},
   "outputs": [
    {
     "name": "stdout",
     "output_type": "stream",
     "text": [
      "Input moment 2 or 44\n"
     ]
    },
    {
     "data": {
      "text/plain": [
       "14.70313721"
      ]
     },
     "execution_count": 86,
     "metadata": {},
     "output_type": "execute_result"
    }
   ],
   "source": [
    "# z25, z27\n",
    "def sec_moment(a):\n",
    "    b = int(input(\"Input moment 2 or 4\"))\n",
    "    if b in (2, 4):\n",
    "        return moment(a, moment = b)\n",
    "    else:\n",
    "        return \"Moment must be 2 or 4\"\n",
    "\n",
    "\n",
    "sec_moment([1, 2, 2.34, 5.34])"
   ]
  },
  {
   "cell_type": "code",
   "execution_count": null,
   "metadata": {},
   "outputs": [],
   "source": []
  }
 ],
 "metadata": {
  "kernelspec": {
   "display_name": "Python 3",
   "language": "python",
   "name": "python3"
  },
  "language_info": {
   "codemirror_mode": {
    "name": "ipython",
    "version": 3
   },
   "file_extension": ".py",
   "mimetype": "text/x-python",
   "name": "python",
   "nbconvert_exporter": "python",
   "pygments_lexer": "ipython3",
   "version": "3.6.9"
  }
 },
 "nbformat": 4,
 "nbformat_minor": 4
}
