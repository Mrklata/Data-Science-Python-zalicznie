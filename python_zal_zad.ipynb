{
 "cells": [
  {
   "cell_type": "code",
   "execution_count": 35,
   "metadata": {},
   "outputs": [],
   "source": [
    "from fractions import Fraction\n",
    "from math import factorial as fc\n",
    "from statistics import stdev, mean\n",
    "from scipy.stats import moment, mode, skew, kurtosis\n",
    "import matplotlib.pyplot as plt\n",
    "from matplotlib.font_manager import FontProperties\n",
    "import numpy as np"
   ]
  },
  {
   "cell_type": "code",
   "execution_count": 2,
   "metadata": {},
   "outputs": [
    {
     "data": {
      "text/plain": [
       "'number is negative'"
      ]
     },
     "execution_count": 2,
     "metadata": {},
     "output_type": "execute_result"
    }
   ],
   "source": [
    "# z5\n",
    "def check(num):\n",
    "    if num >= 0:\n",
    "        return \"number is positive\"\n",
    "    else:\n",
    "        return \"number is negative\"\n",
    "    \n",
    "\n",
    "check(-542.54)"
   ]
  },
  {
   "cell_type": "code",
   "execution_count": 3,
   "metadata": {},
   "outputs": [
    {
     "data": {
      "text/plain": [
       "Fraction(5, 6)"
      ]
     },
     "execution_count": 3,
     "metadata": {},
     "output_type": "execute_result"
    }
   ],
   "source": [
    "# z6\n",
    "def adding_fractions(num_1, den_1, num_2, den_2):\n",
    "    return Fraction(num_1, den_1) + Fraction(num_2, den_2)\n",
    "\n",
    "\n",
    "adding_fractions(1, 2, 1, 3)"
   ]
  },
  {
   "cell_type": "code",
   "execution_count": 4,
   "metadata": {},
   "outputs": [
    {
     "name": "stdout",
     "output_type": "stream",
     "text": [
      "h\n",
      "t\n",
      "a\n",
      "m\n",
      " \n",
      "e\n",
      "v\n",
      "o\n",
      "l\n",
      " \n",
      "I\n"
     ]
    }
   ],
   "source": [
    "# z7\n",
    "def sentance(text):\n",
    "    text = text[::-1]\n",
    "    for i in text:\n",
    "        print(i)\n",
    "\n",
    "        \n",
    "sentance(\"I love math\")"
   ]
  },
  {
   "cell_type": "code",
   "execution_count": 5,
   "metadata": {},
   "outputs": [
    {
     "name": "stdout",
     "output_type": "stream",
     "text": [
      "Percentage value = 72.5\n"
     ]
    },
    {
     "data": {
      "text/plain": [
       "'db'"
      ]
     },
     "execution_count": 5,
     "metadata": {},
     "output_type": "execute_result"
    }
   ],
   "source": [
    "# z8\n",
    "def percentage(score):\n",
    "    full = 40\n",
    "    return (score/full) * 100\n",
    "\n",
    "\n",
    "def check_score(score):\n",
    "    value = percentage(score)\n",
    "    print(f\"Percentage value = {value}\")\n",
    "    if value <= 39:\n",
    "        answer = \"ndst\"\n",
    "    elif value <= 49:\n",
    "        answer = \"dop\"\n",
    "    elif value <= 69:\n",
    "        answer = \"dst\"\n",
    "    elif value <= 84:\n",
    "        answer = \"db\"\n",
    "    elif value <= 99:\n",
    "        answer = \"bdb\"\n",
    "    else:\n",
    "        answer = \"cel\"\n",
    "    return answer\n",
    "\n",
    "\n",
    "check_score(29)"
   ]
  },
  {
   "cell_type": "code",
   "execution_count": 6,
   "metadata": {},
   "outputs": [
    {
     "data": {
      "text/plain": [
       "13"
      ]
     },
     "execution_count": 6,
     "metadata": {},
     "output_type": "execute_result"
    }
   ],
   "source": [
    "# z12 iteracyjnie\n",
    "def fib(n):\n",
    "    a = 0\n",
    "    b = 1\n",
    "    if n < 0:\n",
    "        return \"n must be greater than 0\"\n",
    "    elif n == 0:\n",
    "        return a\n",
    "    elif n == 1:\n",
    "        return b\n",
    "    else:\n",
    "        for i in range(n - 2):\n",
    "            c = a + b\n",
    "            a = b\n",
    "            b = c\n",
    "        return c\n",
    "    \n",
    "fib(8)"
   ]
  },
  {
   "cell_type": "code",
   "execution_count": 7,
   "metadata": {},
   "outputs": [
    {
     "data": {
      "text/plain": [
       "21"
      ]
     },
     "execution_count": 7,
     "metadata": {},
     "output_type": "execute_result"
    }
   ],
   "source": [
    "# z12 rekurencyjnie\n",
    "def fibonacci(n): \n",
    "    if n < 0: \n",
    "        return \"n must be greater than 0\" \n",
    "    elif n == 1: \n",
    "        return 0\n",
    "    elif n == 2: \n",
    "        return 1\n",
    "    else: \n",
    "        return fibonacci(n-1) + fibonacci(n-2) \n",
    "  \n",
    "\n",
    "  \n",
    "fibonacci(9)"
   ]
  },
  {
   "cell_type": "code",
   "execution_count": 8,
   "metadata": {},
   "outputs": [
    {
     "name": "stdout",
     "output_type": "stream",
     "text": [
      "[1, 5, 10, 10, 5, 1]\n"
     ]
    }
   ],
   "source": [
    "# z14\n",
    "def triangle(n):\n",
    "    a = []\n",
    "    for x in range(1, n+2):\n",
    "        a.append(int((fc(n)) / (fc(n-(x-1)) * fc(x - 1))))\n",
    "    return a\n",
    "\n",
    "\n",
    "print(triangle(5))"
   ]
  },
  {
   "cell_type": "code",
   "execution_count": 9,
   "metadata": {},
   "outputs": [
    {
     "data": {
      "image/png": "[encoded data removed]",
      "text/plain": [
       "<Figure size 432x288 with 1 Axes>"
      ]
     },
     "metadata": {
      "needs_background": "light"
     },
     "output_type": "display_data"
    }
   ],
   "source": [
    "# z16\n",
    "def chart_draw(a, b):\n",
    "    x = plt.plot(a, b, 'r^')\n",
    "    plt.axis([0, 7, 0, 10])\n",
    "    plt.title('X AND Y', color = 'g')\n",
    "    plt.xlabel('x values', color = 'g')\n",
    "    plt.ylabel('y values', color = 'g')\n",
    "    plt.annotate('max value', xy=(1, 7), xytext=(3, 9),\n",
    "                 arrowprops=dict(facecolor='green', shrink=0.05))\n",
    "    leg = FontProperties()\n",
    "    leg.set_size('medium')\n",
    "    plt.legend(\"x\", prop=leg)\n",
    "    plt.show()\n",
    "\n",
    "    \n",
    "chart_draw([1, 3, 4, 5, 5, 5], [7, 6, 5, 4, 3, 2])"
   ]
  },
  {
   "cell_type": "code",
   "execution_count": 10,
   "metadata": {},
   "outputs": [
    {
     "data": {
      "text/plain": [
       "2.113456883875325"
      ]
     },
     "execution_count": 10,
     "metadata": {},
     "output_type": "execute_result"
    }
   ],
   "source": [
    "# z24\n",
    "def deviation_count(a):\n",
    "    return stdev(a)\n",
    "\n",
    "\n",
    "deviation_count([1.23, 2.43, 5.34])"
   ]
  },
  {
   "cell_type": "code",
   "execution_count": 17,
   "metadata": {},
   "outputs": [
    {
     "name": "stdout",
     "output_type": "stream",
     "text": [
      "Input moment 2 or 42\n"
     ]
    },
    {
     "data": {
      "text/plain": [
       "2.6189"
      ]
     },
     "execution_count": 17,
     "metadata": {},
     "output_type": "execute_result"
    }
   ],
   "source": [
    "# z25, z27\n",
    "def sec_moment(a):\n",
    "    b = int(input(\"Input moment 2 or 4\"))\n",
    "    if b in (2, 4):\n",
    "        return moment(a, moment = b)\n",
    "    else:\n",
    "        return \"Moment must be 2 or 4\"\n",
    "\n",
    "\n",
    "sec_moment([1, 2, 2.34, 5.34])"
   ]
  },
  {
   "cell_type": "code",
   "execution_count": 36,
   "metadata": {},
   "outputs": [
    {
     "data": {
      "image/png": "[encoded data removed]",
      "text/plain": [
       "<Figure size 432x288 with 1 Axes>"
      ]
     },
     "metadata": {
      "needs_background": "light"
     },
     "output_type": "display_data"
    },
    {
     "name": "stdout",
     "output_type": "stream",
     "text": [
      "średnia = -0.0017144158109167007\n",
      "mediana = -0.007433125922245153\n",
      "dominanta = ModeResult(mode=array([-0.28863121]), count=array([1]))\n",
      "odchylenie standardowe = 0.09845592320319516\n",
      "wariancja = 0.009693568813793463\n",
      "skośność = 0.09649745752220532\n",
      "kurtoza = -0.039910710801856375\n"
     ]
    }
   ],
   "source": [
    "# z30\n",
    "loc, scale = 0, 0.1 \n",
    "s = np.random.normal(loc, scale, 1000)\n",
    "def check_True():\n",
    "    abs(loc - np.mean(s)) < 0.01\n",
    "    abs(scale - np.std(s, ddof = 1)) < 0.01\n",
    "    \n",
    "\n",
    "def write_chart():\n",
    "    count, bins, ignored = plt.hist(s, 30, density=True)\n",
    "    plt.plot(bins, 1/(scale * np.sqrt(2 * np.pi)) * np.exp( - (bins - loc)**2 / (2 * scale**2) ), linewidth=2, color='r')\n",
    "    plt.show()\n",
    "\n",
    "def data():\n",
    "    print(f\"średnia = {mean(s)}\")\n",
    "    print(f\"mediana = {np.median(s)}\")\n",
    "    print(f\"dominanta = {mode(s)}\")\n",
    "    print(f\"odchylenie standardowe = {np.std(s)}\")\n",
    "    print(f\"wariancja = {(np.std(s)) ** 2}\")\n",
    "    print(f\"skośność = {skew(s)}\")\n",
    "    print(f\"kurtoza = {kurtosis(s)}\")\n",
    "write_chart()\n",
    "data()"
   ]
  },
  {
   "cell_type": "code",
   "execution_count": 20,
   "metadata": {},
   "outputs": [],
   "source": [
    "# z32"
   ]
  },
  {
   "cell_type": "code",
   "execution_count": 19,
   "metadata": {},
   "outputs": [
    {
     "name": "stdout",
     "output_type": "stream",
     "text": [
      "6\n",
      "16\n"
     ]
    }
   ],
   "source": [
    "# z35\n",
    "class Prostokat():\n",
    "    def __init__(self, length, width):\n",
    "        self.length = length\n",
    "        self.width = width\n",
    "    \n",
    "    def pole(self):\n",
    "        return int(self.length) * int(self.width)\n",
    "    \n",
    "class Kwadrat(Prostokat):\n",
    "    def __init__(self, length):\n",
    "        super().__init__(length, length)\n",
    "\n",
    "prostokat = Prostokat(2, 3)\n",
    "kwadrat = Kwadrat(4)\n",
    "\n",
    "\n",
    "print(prostokat.pole())\n",
    "print(kwadrat.pole())"
   ]
  },
  {
   "cell_type": "code",
   "execution_count": null,
   "metadata": {},
   "outputs": [],
   "source": []
  }
 ],
 "metadata": {
  "kernelspec": {
   "display_name": "Python 3",
   "language": "python",
   "name": "python3"
  },
  "language_info": {
   "codemirror_mode": {
    "name": "ipython",
    "version": 3
   },
   "file_extension": ".py",
   "mimetype": "text/x-python",
   "name": "python",
   "nbconvert_exporter": "python",
   "pygments_lexer": "ipython3",
   "version": "3.6.9"
  }
 },
 "nbformat": 4,
 "nbformat_minor": 4
}
