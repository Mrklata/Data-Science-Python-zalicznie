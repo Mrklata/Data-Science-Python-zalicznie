{
 "cells": [
  {
   "cell_type": "code",
   "execution_count": 56,
   "metadata": {},
   "outputs": [],
   "source": [
    "import numpy as np"
   ]
  },
  {
   "cell_type": "code",
   "execution_count": 1,
   "metadata": {},
   "outputs": [],
   "source": [
    "class Matrix():\n",
    "    \n",
    "    def __init__(self, rows, columns):\n",
    "        self.rows = rows\n",
    "        self.columns = columns\n",
    "        self.A = []\n",
    "        \n",
    "    def create_matrix(self):\n",
    "        a = []\n",
    "        print('Create base matrix')\n",
    "        for i in range(self.rows * self.columns):\n",
    "            a.append(int(input(f'enter {i + 1}th matrix element ')))\n",
    "        self.A = np.array(a).reshape(self.rows, self.columns)\n",
    "        \n",
    "    def add_matrix(self):\n",
    "        self.create_matrix()\n",
    "        print(\"First let's create a matrix to add\")\n",
    "        b = []\n",
    "        for i in range(self.rows * self.columns):\n",
    "            b.append(int(input(f'enter {i + 1}th matrix element ')))\n",
    "        B = np.array(b).reshape(self.rows, self.columns)\n",
    "        result = self.A * B\n",
    "        return result\n",
    "    \n",
    "    def substract_matrix(self):\n",
    "        self.create_matrix()\n",
    "        print(\"First let's create a matrix to substract\")\n",
    "        b = []\n",
    "        for i in range(self.rows * self.columns):\n",
    "            b.append(int(input(f'enter {i + 1}th matrix element ')))\n",
    "        B = np.array(b).reshape(self.rows, self.columns)\n",
    "        result = np.substract(A, B)\n",
    "        \n",
    "    def multiplication_by_number(self):\n",
    "        self.create_matrix()\n",
    "        x = int(input(\"Input number to multiply by\"))\n",
    "        result = self.A.dot(x)\n",
    "        return result\n",
    "    \n",
    "    def multiplication(self):\n",
    "        self.create_matrix()\n",
    "        print(\"\"\"First let's create a matrix to muliply. REMEMBER!!! \n",
    "                Number of rows, must be equal to number of columns\"\"\")\n",
    "        rows_2 = int(input('Input nuber ow rows'))\n",
    "        if rows_2 != self.columns:\n",
    "            print(\"Number of rows must be equal to number ow columns\")\n",
    "            self.multiplication()\n",
    "        columns_2 = int(input('Input number of columns'))\n",
    "        c = []\n",
    "        for i in range(rows_2 * columns_2):\n",
    "            c.append(int(input(f'enter {i + 1}th matrix element ')))\n",
    "        C = np.array(c).reshape(rows_2, columns_2)\n",
    "        result = self.A.dot(C)\n",
    "        return result\n",
    "    \n",
    "    def transponde(self):\n",
    "        self.create_matrix()\n",
    "        result = self.A.transponde()\n",
    "        return result\n",
    "    \n",
    "    def inverse_matrix(self):\n",
    "        self.create_matrix()\n",
    "        result = np.linalg.inv(self.A)\n",
    "        return result\n",
    "    \n",
    "    \n",
    "\n",
    "matrix = Matrix(5, 3)"
   ]
  },
  {
   "cell_type": "markdown",
   "metadata": {},
   "source": [
    " "
   ]
  },
  {
   "cell_type": "code",
   "execution_count": null,
   "metadata": {},
   "outputs": [],
   "source": []
  }
 ],
 "metadata": {
  "kernelspec": {
   "display_name": "Python 3",
   "language": "python",
   "name": "python3"
  },
  "language_info": {
   "codemirror_mode": {
    "name": "ipython",
    "version": 3
   },
   "file_extension": ".py",
   "mimetype": "text/x-python",
   "name": "python",
   "nbconvert_exporter": "python",
   "pygments_lexer": "ipython3",
   "version": "3.6.9"
  }
 },
 "nbformat": 4,
 "nbformat_minor": 4
}
